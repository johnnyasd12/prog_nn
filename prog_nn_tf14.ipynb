{
 "cells": [
  {
   "cell_type": "code",
   "execution_count": 1,
   "metadata": {
    "ExecuteTime": {
     "end_time": "2018-11-10T07:10:10.476562Z",
     "start_time": "2018-11-10T07:10:10.466373Z"
    }
   },
   "outputs": [],
   "source": [
    "# to auto reload the modified module\n",
    "% load_ext autoreload\n",
    "% autoreload 2"
   ]
  },
  {
   "cell_type": "code",
   "execution_count": 2,
   "metadata": {
    "ExecuteTime": {
     "end_time": "2018-11-10T07:10:12.383874Z",
     "start_time": "2018-11-10T07:10:10.605819Z"
    }
   },
   "outputs": [
    {
     "name": "stderr",
     "output_type": "stream",
     "text": [
      "/home/deep3072/anaconda2/envs/tu36/lib/python3.6/importlib/_bootstrap.py:219: RuntimeWarning: compiletime version 3.5 of module 'tensorflow.python.framework.fast_tensor_util' does not match runtime version 3.6\n",
      "  return f(*args, **kwds)\n"
     ]
    }
   ],
   "source": [
    "import tensorflow as tf\n",
    "import numpy as np\n",
    "import random\n",
    "import os\n",
    "from progressive_nn import InitialColumnProgNN"
   ]
  },
  {
   "cell_type": "code",
   "execution_count": 3,
   "metadata": {
    "ExecuteTime": {
     "end_time": "2018-11-10T07:10:12.401953Z",
     "start_time": "2018-11-10T07:10:12.385421Z"
    }
   },
   "outputs": [],
   "source": [
    "def check_obj(obj_str):\n",
    "    obj = eval(obj_str)\n",
    "    obj_type = type(obj)\n",
    "    print(obj_str\n",
    "        , obj_type\n",
    "        , end = ' '\n",
    "        )\n",
    "    if obj_type == np.ndarray:\n",
    "        print(obj.shape)\n",
    "    else:\n",
    "        try:\n",
    "            iterator = iter(obj)\n",
    "        except TypeError:\n",
    "            # not iterable\n",
    "            print(obj)\n",
    "        else:\n",
    "            # iterable\n",
    "            print(len(obj))"
   ]
  },
  {
   "cell_type": "code",
   "execution_count": 5,
   "metadata": {
    "ExecuteTime": {
     "end_time": "2018-11-10T07:10:22.537843Z",
     "start_time": "2018-11-10T07:10:22.130032Z"
    }
   },
   "outputs": [],
   "source": [
    "# session settings\n",
    "gpu_id = '1'\n",
    "os.environ[\"CUDA_VISIBLE_DEVICES\"] = gpu_id\n",
    "with tf.device('/gpu:' + gpu_id):\n",
    "#     mem_fraction = 0.25\n",
    "    config = tf.ConfigProto()\n",
    "    config.gpu_options.allow_growth = True\n",
    "#     config.gpu_options.per_process_gpu_memory_fraction=mem_fraction\n",
    "    session = tf.Session(config = config)\n",
    "\n",
    "# seed settings\n",
    "seed = int(os.getenv(\"SEED\", 12))\n",
    "tf.set_random_seed(seed)\n",
    "np.random.seed(seed)\n",
    "random.seed(seed)"
   ]
  },
  {
   "cell_type": "code",
   "execution_count": 18,
   "metadata": {
    "ExecuteTime": {
     "end_time": "2018-11-10T07:53:38.392642Z",
     "start_time": "2018-11-10T07:53:31.121025Z"
    }
   },
   "outputs": [
    {
     "name": "stdout",
     "output_type": "stream",
     "text": [
      "X_data (300, 1) \n",
      " [[ 0.3110368 ]\n",
      " [-0.66555184]\n",
      " [ 0.9130435 ]\n",
      " [ 0.31772575]\n",
      " [-0.84615386]]\n",
      "y_data (300, 1) \n",
      " [[-0.37993637]\n",
      " [-0.06760581]\n",
      " [ 0.33135578]\n",
      " [-0.30885482]\n",
      " [ 0.21930103]]\n",
      "Layer 1 : FC, input shape = [None, 1] , out_size = 10\n",
      "Layer 2 : FC, input shape = [None, 10] , out_size = 1\n",
      "Epoch 1 , step 0 , loss= 0.23260644 \n",
      "Epoch 6 , step 5 , loss= 0.13392082 \n",
      "Epoch 12 , step 1 , loss= 0.100657985 \n",
      "Epoch 17 , step 6 , loss= 0.092235565 \n",
      "Epoch 23 , step 2 , loss= 0.088296354 \n",
      "Epoch 28 , step 7 , loss= 0.11023784 \n",
      "Epoch 34 , step 3 , loss= 0.075164676 \n",
      "Epoch 39 , step 8 , loss= 0.067280345 \n",
      "Epoch 45 , step 4 , loss= 0.060324755 \n",
      "Epoch 51 , step 0 , loss= 0.038573742 \n",
      "Epoch 56 , step 5 , loss= 0.049024038 \n",
      "Epoch 62 , step 1 , loss= 0.027077435 \n",
      "Epoch 67 , step 6 , loss= 0.032872573 \n",
      "Epoch 73 , step 2 , loss= 0.022093663 \n",
      "Epoch 78 , step 7 , loss= 0.016132511 \n",
      "Epoch 84 , step 3 , loss= 0.014993745 \n",
      "Epoch 89 , step 8 , loss= 0.009516874 \n",
      "Epoch 95 , step 4 , loss= 0.007855723 \n",
      "Epoch 101 , step 0 , loss= 0.010941884 \n",
      "Epoch 106 , step 5 , loss= 0.007219443 \n",
      "Epoch 112 , step 1 , loss= 0.008581139 \n",
      "Epoch 117 , step 6 , loss= 0.0067160693 \n",
      "Epoch 123 , step 2 , loss= 0.0063326517 \n",
      "Epoch 128 , step 7 , loss= 0.007185377 \n",
      "Epoch 134 , step 3 , loss= 0.0055270786 \n",
      "Epoch 139 , step 8 , loss= 0.007277422 \n",
      "Epoch 145 , step 4 , loss= 0.0042302385 \n",
      "Epoch 151 , step 0 , loss= 0.005593527 \n",
      "Epoch 156 , step 5 , loss= 0.005306706 \n",
      "Epoch 162 , step 1 , loss= 0.0054728063 \n",
      "Epoch 167 , step 6 , loss= 0.0032355557 \n",
      "Epoch 173 , step 2 , loss= 0.005925158 \n",
      "Epoch 178 , step 7 , loss= 0.0033165652 \n",
      "Epoch 184 , step 3 , loss= 0.0046580704 \n",
      "Epoch 189 , step 8 , loss= 0.005193737 \n",
      "Epoch 195 , step 4 , loss= 0.0049261637 \n",
      "Epoch 201 , step 0 , loss= 0.004236729 \n",
      "Epoch 206 , step 5 , loss= 0.002479117 \n",
      "Epoch 212 , step 1 , loss= 0.004150525 \n",
      "Epoch 217 , step 6 , loss= 0.003604313 \n",
      "Epoch 223 , step 2 , loss= 0.0034568268 \n",
      "Epoch 228 , step 7 , loss= 0.002941688 \n",
      "Epoch 234 , step 3 , loss= 0.0022281597 \n",
      "Epoch 239 , step 8 , loss= 0.004031629 \n",
      "Epoch 245 , step 4 , loss= 0.0029987486 \n",
      "Epoch 251 , step 0 , loss= 0.0025463859 \n",
      "Epoch 256 , step 5 , loss= 0.003122778 \n",
      "Epoch 262 , step 1 , loss= 0.0028780163 \n",
      "Epoch 267 , step 6 , loss= 0.0034515096 \n",
      "Epoch 273 , step 2 , loss= 0.0017415015 \n",
      "Epoch 278 , step 7 , loss= 0.0030882058 \n",
      "Epoch 284 , step 3 , loss= 0.0038293512 \n",
      "Epoch 289 , step 8 , loss= 0.0026325593 \n",
      "Epoch 295 , step 4 , loss= 0.0030961926 \n",
      "Epoch 301 , step 0 , loss= 0.0026782977 \n",
      "Epoch 306 , step 5 , loss= 0.0026181615 \n",
      "Epoch 312 , step 1 , loss= 0.003448743 \n",
      "Epoch 317 , step 6 , loss= 0.0027831611 \n",
      "Epoch 323 , step 2 , loss= 0.0039036402 \n",
      "Epoch 328 , step 7 , loss= 0.0030360804 \n",
      "Epoch 334 , step 3 , loss= 0.003369897 \n",
      "Epoch 339 , step 8 , loss= 0.0024113394 \n",
      "Epoch 345 , step 4 , loss= 0.003942835 \n",
      "Epoch 351 , step 0 , loss= 0.0016208151 \n",
      "Epoch 356 , step 5 , loss= 0.0027839572 \n",
      "Epoch 362 , step 1 , loss= 0.0022215184 \n",
      "Epoch 367 , step 6 , loss= 0.002320127 \n",
      "Epoch 373 , step 2 , loss= 0.0016793971 \n",
      "Epoch 378 , step 7 , loss= 0.0015574617 \n",
      "Epoch 384 , step 3 , loss= 0.0027119063 \n",
      "Epoch 389 , step 8 , loss= 0.0024013638 \n",
      "Epoch 395 , step 4 , loss= 0.0027901633 \n",
      "Epoch 401 , step 0 , loss= 0.002494445 \n",
      "Epoch 406 , step 5 , loss= 0.002495261 \n",
      "Epoch 412 , step 1 , loss= 0.002247021 \n",
      "Epoch 417 , step 6 , loss= 0.0025968608 \n",
      "Epoch 423 , step 2 , loss= 0.0022134038 \n",
      "Epoch 428 , step 7 , loss= 0.0028730915 \n",
      "Epoch 434 , step 3 , loss= 0.0026788292 \n",
      "Epoch 439 , step 8 , loss= 0.0028767458 \n",
      "Epoch 445 , step 4 , loss= 0.0022442993 \n",
      "Epoch 451 , step 0 , loss= 0.00246261 \n",
      "Epoch 456 , step 5 , loss= 0.0026315125 \n",
      "Epoch 462 , step 1 , loss= 0.0019888077 \n",
      "Epoch 467 , step 6 , loss= 0.0019215293 \n",
      "Epoch 473 , step 2 , loss= 0.0040009227 \n",
      "Epoch 478 , step 7 , loss= 0.0022416404 \n",
      "Epoch 484 , step 3 , loss= 0.002397765 \n",
      "Epoch 489 , step 8 , loss= 0.003232673 \n",
      "Epoch 495 , step 4 , loss= 0.0023732728 \n",
      "Epoch 501 , step 0 , loss= 0.0023723058 \n",
      "Epoch 506 , step 5 , loss= 0.0037023297 \n",
      "Epoch 512 , step 1 , loss= 0.0022899366 \n",
      "Epoch 517 , step 6 , loss= 0.0023548207 \n",
      "Epoch 523 , step 2 , loss= 0.0022440606 \n",
      "Epoch 528 , step 7 , loss= 0.0014029638 \n",
      "Epoch 534 , step 3 , loss= 0.0025744548 \n",
      "Epoch 539 , step 8 , loss= 0.0022423388 \n",
      "Epoch 545 , step 4 , loss= 0.0021364861 \n",
      "Epoch 551 , step 0 , loss= 0.0021346356 \n",
      "Epoch 556 , step 5 , loss= 0.0019616473 \n",
      "Epoch 562 , step 1 , loss= 0.0031636772 \n",
      "Epoch 567 , step 6 , loss= 0.002915407 \n",
      "Epoch 573 , step 2 , loss= 0.0019498345 \n",
      "Epoch 578 , step 7 , loss= 0.002432849 \n",
      "Epoch 584 , step 3 , loss= 0.0027027517 \n",
      "Epoch 589 , step 8 , loss= 0.0026276233 \n",
      "Epoch 595 , step 4 , loss= 0.002416193 \n",
      "Epoch 601 , step 0 , loss= 0.001984403 \n",
      "Epoch 606 , step 5 , loss= 0.0035564555 \n",
      "Epoch 612 , step 1 , loss= 0.0020754484 \n",
      "Epoch 617 , step 6 , loss= 0.0025213985 \n",
      "Epoch 623 , step 2 , loss= 0.002659705 \n",
      "Epoch 628 , step 7 , loss= 0.0032225738 \n",
      "Epoch 634 , step 3 , loss= 0.0025431798 \n",
      "Epoch 639 , step 8 , loss= 0.0017570157 \n",
      "Epoch 645 , step 4 , loss= 0.003511443 \n",
      "Epoch 651 , step 0 , loss= 0.0025574907 \n",
      "Epoch 656 , step 5 , loss= 0.002983164 \n",
      "Epoch 662 , step 1 , loss= 0.0018797715 \n",
      "Epoch 667 , step 6 , loss= 0.0040581115 \n",
      "Epoch 673 , step 2 , loss= 0.003054832 \n",
      "Epoch 678 , step 7 , loss= 0.0023857653 \n",
      "Epoch 684 , step 3 , loss= 0.0019735114 \n",
      "Epoch 689 , step 8 , loss= 0.0022901986 \n",
      "Epoch 695 , step 4 , loss= 0.0025450115 \n",
      "Epoch 701 , step 0 , loss= 0.003007866 \n",
      "Epoch 706 , step 5 , loss= 0.0015317702 \n",
      "Epoch 712 , step 1 , loss= 0.0025699714 \n",
      "Epoch 717 , step 6 , loss= 0.0027910916 \n",
      "Epoch 723 , step 2 , loss= 0.0029466806 \n",
      "Epoch 728 , step 7 , loss= 0.0022239005 \n",
      "Epoch 734 , step 3 , loss= 0.002583266 \n",
      "Epoch 739 , step 8 , loss= 0.004207158 \n",
      "Epoch 745 , step 4 , loss= 0.0015991519 \n",
      "Epoch 751 , step 0 , loss= 0.0029857813 \n",
      "Epoch 756 , step 5 , loss= 0.0032586001 \n",
      "Epoch 762 , step 1 , loss= 0.0029791181 \n",
      "Epoch 767 , step 6 , loss= 0.002694948 \n",
      "Epoch 773 , step 2 , loss= 0.001923511 \n",
      "Epoch 778 , step 7 , loss= 0.0018857159 \n",
      "Epoch 784 , step 3 , loss= 0.002740987 \n",
      "Epoch 789 , step 8 , loss= 0.002891834 \n",
      "Epoch 795 , step 4 , loss= 0.002903942 \n",
      "Epoch 801 , step 0 , loss= 0.0029611147 \n",
      "Epoch 806 , step 5 , loss= 0.0018659458 \n",
      "Epoch 812 , step 1 , loss= 0.0023325377 \n",
      "Epoch 817 , step 6 , loss= 0.00246197 \n",
      "Epoch 823 , step 2 , loss= 0.0027017058 \n",
      "Epoch 828 , step 7 , loss= 0.0023393931 \n",
      "Epoch 834 , step 3 , loss= 0.0022332016 \n",
      "Epoch 839 , step 8 , loss= 0.0017961805 \n",
      "Epoch 845 , step 4 , loss= 0.002844742 \n",
      "Epoch 851 , step 0 , loss= 0.002519665 \n",
      "Epoch 856 , step 5 , loss= 0.003662177 \n",
      "Epoch 862 , step 1 , loss= 0.0031032555 \n",
      "Epoch 867 , step 6 , loss= 0.0019393468 \n",
      "Epoch 873 , step 2 , loss= 0.0019046217 \n",
      "Epoch 878 , step 7 , loss= 0.0028073103 \n",
      "Epoch 884 , step 3 , loss= 0.0022645053 \n",
      "Epoch 889 , step 8 , loss= 0.0029695546 \n",
      "Epoch 895 , step 4 , loss= 0.0015343414 \n",
      "Epoch 901 , step 0 , loss= 0.0027153539 \n",
      "Epoch 906 , step 5 , loss= 0.0033066403 \n",
      "Epoch 912 , step 1 , loss= 0.0018240949 \n",
      "Epoch 917 , step 6 , loss= 0.0027904673 \n",
      "Epoch 923 , step 2 , loss= 0.002739702 \n",
      "Epoch 928 , step 7 , loss= 0.0020542 \n",
      "Epoch 934 , step 3 , loss= 0.0027405245 \n",
      "Epoch 939 , step 8 , loss= 0.0024463849 \n",
      "Epoch 945 , step 4 , loss= 0.0016021393 \n",
      "Epoch 951 , step 0 , loss= 0.002278918 \n",
      "Epoch 956 , step 5 , loss= 0.0029318454 \n",
      "Epoch 962 , step 1 , loss= 0.0023664786 \n",
      "Epoch 967 , step 6 , loss= 0.002588269 \n",
      "Epoch 973 , step 2 , loss= 0.003025902 \n",
      "Epoch 978 , step 7 , loss= 0.003005968 \n",
      "Epoch 984 , step 3 , loss= 0.0029303606 \n",
      "Epoch 989 , step 8 , loss= 0.0025475062 \n",
      "Epoch 995 , step 4 , loss= 0.0019280706 \n",
      "Epoch 1000 , step 8 , loss= 0.0028512934 \n"
     ]
    }
   ],
   "source": [
    "try_reg = True\n",
    "if try_reg:\n",
    "#         X_data = np.random.random((6000))[:, np.newaxis]*100\n",
    "#         noise = np.random.normal(0, 0.05, X_data.shape).astype(np.float32)*0\n",
    "#         y_data = X_data*2 + 1 + noise\n",
    "    X_data = np.linspace(-1,1,300, dtype=np.float32)[:, np.newaxis]\n",
    "    np.random.shuffle(X_data)\n",
    "    noise = np.random.normal(0, 0.05, X_data.shape).astype(np.float32)\n",
    "    y_data = np.square(X_data) - 0.5 + noise\n",
    "    print('X_data',X_data.shape,'\\n',X_data[:5])\n",
    "    print('y_data',y_data.shape,'\\n',y_data[:5])\n",
    "\n",
    "    input_dims = X_data.shape[1]\n",
    "    col_0 = InitialColumnProgNN(\n",
    "        input_dims=input_dims\n",
    "        , output_dims=1\n",
    "        , session=session\n",
    "        , dtype_X=tf.float32, dtype_y=tf.float32\n",
    "    )\n",
    "    col_0.add_fc(10,activation_func=tf.nn.relu)\n",
    "#     col_0.add_fc(1024,activation_func=tf.nn.relu)\n",
    "    col_0.add_fc(1,activation_func=None\n",
    "        # ,output_layer=True\n",
    "        )\n",
    "    col_0.compile_nn(\n",
    "#         loss=tf.reduce_mean(tf.reduce_sum(tf.square(col_0.ys - col_0.prediction),reduction_indices=[1]))\n",
    "        loss=tf.losses.mean_squared_error(col_0.ys,col_0.prediction)\n",
    "        ,opt=tf.train.AdamOptimizer(learning_rate=1e-3)\n",
    "#         ,opt=tf.train.GradientDescentOptimizer(learning_rate=1e-1)\n",
    "#         ,mectrics=[]\n",
    "    )\n",
    "    col_0.train(\n",
    "        X=X_data\n",
    "        , y=y_data\n",
    "        , batch_size=32\n",
    "        , n_epochs=1000\n",
    "        , display_steps=50\n",
    "    )\n"
   ]
  },
  {
   "cell_type": "code",
   "execution_count": 19,
   "metadata": {
    "ExecuteTime": {
     "end_time": "2018-11-10T07:53:38.513708Z",
     "start_time": "2018-11-10T07:53:38.394326Z"
    }
   },
   "outputs": [
    {
     "name": "stdout",
     "output_type": "stream",
     "text": [
      "Plotting loss...\n"
     ]
    },
    {
     "data": {
      "image/png": "[encoded data removed]",
      "text/plain": [
       "<Figure size 432x288 with 1 Axes>"
      ]
     },
     "metadata": {
      "needs_background": "light"
     },
     "output_type": "display_data"
    },
    {
     "name": "stdout",
     "output_type": "stream",
     "text": [
      "Plotting metrics...\n",
      "no metrics to plot\n"
     ]
    }
   ],
   "source": [
    "if try_reg:\n",
    "    col_0.plt_loss()\n",
    "    col_0.plt_metrics()"
   ]
  },
  {
   "cell_type": "code",
   "execution_count": 20,
   "metadata": {
    "ExecuteTime": {
     "end_time": "2018-11-10T07:54:47.935120Z",
     "start_time": "2018-11-10T07:53:38.515083Z"
    }
   },
   "outputs": [
    {
     "name": "stdout",
     "output_type": "stream",
     "text": [
      "Extracting /tmp/data/train-images-idx3-ubyte.gz\n",
      "Extracting /tmp/data/train-labels-idx1-ubyte.gz\n",
      "Extracting /tmp/data/t10k-images-idx3-ubyte.gz\n",
      "Extracting /tmp/data/t10k-labels-idx1-ubyte.gz\n",
      "X_train <class 'numpy.ndarray'> (55000, 784)\n",
      "y_train <class 'numpy.ndarray'> (55000, 10)\n",
      "input_dims <class 'int'> 784\n",
      "output_dims <class 'int'> 10\n",
      "Layer 1 : FC, input shape = [None, 784] , out_size = 512\n",
      "Layer 2 : FC, input shape = [None, 512] , out_size = 10\n",
      "Epoch 1 , step 0 , loss= 1.8711146 acc = 0.40625 , val_loss= 2.5965555 val acc = 0.158 \n",
      "Epoch 1 , step 100 , loss= 0.47317654 acc = 0.875 , val_loss= 0.34421632 val acc = 0.899 \n",
      "Epoch 1 , step 200 , loss= 0.35488927 acc = 0.90625 , val_loss= 0.28623304 val acc = 0.9194 \n",
      "Epoch 1 , step 300 , loss= 0.20775333 acc = 0.9375 , val_loss= 0.26800236 val acc = 0.9266 \n",
      "Epoch 1 , step 400 , loss= 0.34122038 acc = 0.9375 , val_loss= 0.21988367 val acc = 0.9364 \n",
      "Epoch 1 , step 500 , loss= 0.19569184 acc = 0.96875 , val_loss= 0.1967338 val acc = 0.9424 \n",
      "Epoch 1 , step 600 , loss= 0.29126552 acc = 0.84375 , val_loss= 0.17070587 val acc = 0.9502 \n",
      "Epoch 1 , step 700 , loss= 0.42146182 acc = 0.90625 , val_loss= 0.17595951 val acc = 0.9508 \n",
      "Epoch 1 , step 800 , loss= 0.051541574 acc = 1.0 , val_loss= 0.15440138 val acc = 0.9568 \n",
      "Epoch 1 , step 900 , loss= 0.09141446 acc = 0.96875 , val_loss= 0.15514076 val acc = 0.9526 \n",
      "Epoch 1 , step 1000 , loss= 0.14357063 acc = 0.9375 , val_loss= 0.13645475 val acc = 0.9606 \n",
      "Epoch 1 , step 1100 , loss= 0.29220113 acc = 0.96875 , val_loss= 0.1302894 val acc = 0.9594 \n",
      "Epoch 1 , step 1200 , loss= 0.09781581 acc = 0.96875 , val_loss= 0.124864236 val acc = 0.9624 \n",
      "Epoch 1 , step 1300 , loss= 0.2768295 acc = 0.90625 , val_loss= 0.11494431 val acc = 0.9642 \n",
      "Epoch 1 , step 1400 , loss= 0.095865205 acc = 0.9375 , val_loss= 0.12168711 val acc = 0.9638 \n",
      "Epoch 1 , step 1500 , loss= 0.17994127 acc = 0.90625 , val_loss= 0.121062316 val acc = 0.9616 \n",
      "Epoch 1 , step 1600 , loss= 0.26010334 acc = 0.90625 , val_loss= 0.11123686 val acc = 0.9658 \n",
      "Epoch 1 , step 1700 , loss= 0.007971687 acc = 1.0 , val_loss= 0.11650328 val acc = 0.965 \n",
      "Epoch 2 , step 82 , loss= 0.11132727 acc = 0.96875 , val_loss= 0.092718005 val acc = 0.972 \n",
      "Epoch 2 , step 182 , loss= 0.016078029 acc = 1.0 , val_loss= 0.09045466 val acc = 0.9738 \n",
      "Epoch 2 , step 282 , loss= 0.1105006 acc = 0.96875 , val_loss= 0.10821575 val acc = 0.9682 \n",
      "Epoch 2 , step 382 , loss= 0.07245056 acc = 0.96875 , val_loss= 0.101553805 val acc = 0.97 \n",
      "Epoch 2 , step 482 , loss= 0.104091 acc = 0.96875 , val_loss= 0.093587026 val acc = 0.9732 \n",
      "Epoch 2 , step 582 , loss= 0.02335358 acc = 1.0 , val_loss= 0.092033535 val acc = 0.9724 \n",
      "Epoch 2 , step 682 , loss= 0.015701238 acc = 1.0 , val_loss= 0.11012545 val acc = 0.9676 \n",
      "Epoch 2 , step 782 , loss= 0.04827541 acc = 0.96875 , val_loss= 0.09874352 val acc = 0.972 \n",
      "Epoch 2 , step 882 , loss= 0.03991419 acc = 0.96875 , val_loss= 0.08799657 val acc = 0.974 \n",
      "Epoch 2 , step 982 , loss= 0.05353231 acc = 1.0 , val_loss= 0.08621026 val acc = 0.9762 \n",
      "Epoch 2 , step 1082 , loss= 0.027125712 acc = 1.0 , val_loss= 0.08587687 val acc = 0.9748 \n",
      "Epoch 2 , step 1182 , loss= 0.019026557 acc = 1.0 , val_loss= 0.08360711 val acc = 0.974 \n",
      "Epoch 2 , step 1282 , loss= 0.13351464 acc = 0.9375 , val_loss= 0.091662034 val acc = 0.9722 \n",
      "Epoch 2 , step 1382 , loss= 0.09343601 acc = 0.96875 , val_loss= 0.07802724 val acc = 0.9752 \n",
      "Epoch 2 , step 1482 , loss= 0.01613575 acc = 1.0 , val_loss= 0.0809068 val acc = 0.9762 \n",
      "Epoch 2 , step 1582 , loss= 0.119561255 acc = 0.96875 , val_loss= 0.08350543 val acc = 0.9752 \n",
      "Epoch 2 , step 1682 , loss= 0.020450365 acc = 1.0 , val_loss= 0.08180814 val acc = 0.9736 \n",
      "Epoch 3 , step 64 , loss= 0.055596665 acc = 0.96875 , val_loss= 0.07935282 val acc = 0.9744 \n",
      "Epoch 3 , step 164 , loss= 0.088623464 acc = 0.96875 , val_loss= 0.075660184 val acc = 0.9774 \n",
      "Epoch 3 , step 264 , loss= 0.002748916 acc = 1.0 , val_loss= 0.07546091 val acc = 0.978 \n",
      "Epoch 3 , step 364 , loss= 0.031941473 acc = 1.0 , val_loss= 0.07253291 val acc = 0.9776 \n",
      "Epoch 3 , step 464 , loss= 0.035344265 acc = 0.96875 , val_loss= 0.07211488 val acc = 0.9792 \n",
      "Epoch 3 , step 564 , loss= 0.026034055 acc = 1.0 , val_loss= 0.07668666 val acc = 0.977 \n",
      "Epoch 3 , step 664 , loss= 0.0075456016 acc = 1.0 , val_loss= 0.07715432 val acc = 0.9766 \n",
      "Epoch 3 , step 764 , loss= 0.029269034 acc = 1.0 , val_loss= 0.08116268 val acc = 0.9748 \n",
      "Epoch 3 , step 864 , loss= 0.027075151 acc = 1.0 , val_loss= 0.0766348 val acc = 0.9772 \n",
      "Epoch 3 , step 964 , loss= 0.007364929 acc = 1.0 , val_loss= 0.07614309 val acc = 0.9766 \n",
      "Epoch 3 , step 1064 , loss= 0.045218688 acc = 0.96875 , val_loss= 0.07650705 val acc = 0.9774 \n",
      "Epoch 3 , step 1164 , loss= 0.026930537 acc = 1.0 , val_loss= 0.08160332 val acc = 0.9752 \n",
      "Epoch 3 , step 1264 , loss= 0.01870528 acc = 1.0 , val_loss= 0.07139231 val acc = 0.9788 \n",
      "Epoch 3 , step 1364 , loss= 0.038673267 acc = 1.0 , val_loss= 0.07176503 val acc = 0.9798 \n",
      "Epoch 3 , step 1464 , loss= 0.014018087 acc = 1.0 , val_loss= 0.08029858 val acc = 0.977 \n",
      "Epoch 3 , step 1564 , loss= 0.03245565 acc = 1.0 , val_loss= 0.08016384 val acc = 0.9766 \n",
      "Epoch 3 , step 1664 , loss= 0.06777398 acc = 0.96875 , val_loss= 0.069202706 val acc = 0.9788 \n",
      "Epoch 4 , step 46 , loss= 0.05425295 acc = 0.96875 , val_loss= 0.06850357 val acc = 0.9782 \n",
      "Epoch 4 , step 146 , loss= 0.0038757042 acc = 1.0 , val_loss= 0.063938044 val acc = 0.9808 \n",
      "Epoch 4 , step 246 , loss= 0.097192355 acc = 0.96875 , val_loss= 0.06606456 val acc = 0.9804 \n",
      "Epoch 4 , step 346 , loss= 0.0007579912 acc = 1.0 , val_loss= 0.070072 val acc = 0.98 \n",
      "Epoch 4 , step 446 , loss= 0.0041903593 acc = 1.0 , val_loss= 0.06949719 val acc = 0.9776 \n",
      "Epoch 4 , step 546 , loss= 0.004185684 acc = 1.0 , val_loss= 0.07056925 val acc = 0.9782 \n",
      "Epoch 4 , step 646 , loss= 0.018843789 acc = 1.0 , val_loss= 0.07061769 val acc = 0.9794 \n",
      "Epoch 4 , step 746 , loss= 0.00772559 acc = 1.0 , val_loss= 0.07005259 val acc = 0.9806 \n",
      "Epoch 4 , step 846 , loss= 0.01486018 acc = 1.0 , val_loss= 0.06923664 val acc = 0.978 \n",
      "Epoch 4 , step 946 , loss= 0.008189516 acc = 1.0 , val_loss= 0.073135436 val acc = 0.9788 \n",
      "Epoch 4 , step 1046 , loss= 0.0106103625 acc = 1.0 , val_loss= 0.055714782 val acc = 0.9838 \n",
      "Epoch 4 , step 1146 , loss= 0.00883471 acc = 1.0 , val_loss= 0.079696536 val acc = 0.9752 \n",
      "Epoch 4 , step 1246 , loss= 0.05030203 acc = 0.96875 , val_loss= 0.06742321 val acc = 0.9798 \n",
      "Epoch 4 , step 1346 , loss= 0.028463367 acc = 0.96875 , val_loss= 0.070297405 val acc = 0.979 \n",
      "Epoch 4 , step 1446 , loss= 0.0020395687 acc = 1.0 , val_loss= 0.06920994 val acc = 0.9802 \n",
      "Epoch 4 , step 1546 , loss= 0.0043151896 acc = 1.0 , val_loss= 0.06887058 val acc = 0.9798 \n",
      "Epoch 4 , step 1646 , loss= 0.032998376 acc = 1.0 , val_loss= 0.07782521 val acc = 0.9782 \n",
      "Epoch 5 , step 28 , loss= 0.0033709195 acc = 1.0 , val_loss= 0.07099286 val acc = 0.9808 \n",
      "Epoch 5 , step 128 , loss= 0.011011355 acc = 1.0 , val_loss= 0.06852437 val acc = 0.98 \n",
      "Epoch 5 , step 228 , loss= 0.028327134 acc = 0.96875 , val_loss= 0.06678296 val acc = 0.9818 \n",
      "Epoch 5 , step 328 , loss= 0.005973138 acc = 1.0 , val_loss= 0.06508363 val acc = 0.979 \n",
      "Epoch 5 , step 428 , loss= 0.0050887372 acc = 1.0 , val_loss= 0.061682228 val acc = 0.9828 \n",
      "Epoch 5 , step 528 , loss= 0.03992322 acc = 0.96875 , val_loss= 0.063464865 val acc = 0.9806 \n",
      "Epoch 5 , step 628 , loss= 0.0069302334 acc = 1.0 , val_loss= 0.07078335 val acc = 0.9798 \n",
      "Epoch 5 , step 728 , loss= 0.011012275 acc = 1.0 , val_loss= 0.06501512 val acc = 0.9822 \n",
      "Epoch 5 , step 828 , loss= 0.011498443 acc = 1.0 , val_loss= 0.0825131 val acc = 0.9754 \n",
      "Epoch 5 , step 928 , loss= 0.0116643105 acc = 1.0 , val_loss= 0.06607604 val acc = 0.9804 \n",
      "Epoch 5 , step 1028 , loss= 0.012785731 acc = 1.0 , val_loss= 0.07227232 val acc = 0.9778 \n",
      "Epoch 5 , step 1128 , loss= 0.0021098459 acc = 1.0 , val_loss= 0.06981947 val acc = 0.9788 \n",
      "Epoch 5 , step 1228 , loss= 0.009646009 acc = 1.0 , val_loss= 0.06428386 val acc = 0.9808 \n",
      "Epoch 5 , step 1328 , loss= 0.03507018 acc = 0.96875 , val_loss= 0.06453339 val acc = 0.981 \n",
      "Epoch 5 , step 1428 , loss= 0.20034452 acc = 0.96875 , val_loss= 0.06818146 val acc = 0.9802 \n",
      "Epoch 5 , step 1528 , loss= 0.013649933 acc = 1.0 , val_loss= 0.08745461 val acc = 0.9754 \n"
     ]
    },
    {
     "name": "stdout",
     "output_type": "stream",
     "text": [
      "Epoch 5 , step 1628 , loss= 0.0037042168 acc = 1.0 , val_loss= 0.07439995 val acc = 0.9792 \n",
      "Epoch 6 , step 10 , loss= 0.0033683556 acc = 1.0 , val_loss= 0.06406948 val acc = 0.9812 \n",
      "Epoch 6 , step 110 , loss= 0.0024077827 acc = 1.0 , val_loss= 0.060668115 val acc = 0.9842 \n",
      "Epoch 6 , step 210 , loss= 0.017815035 acc = 1.0 , val_loss= 0.06553254 val acc = 0.9814 \n",
      "Epoch 6 , step 310 , loss= 0.0017327336 acc = 1.0 , val_loss= 0.064071685 val acc = 0.9836 \n",
      "Epoch 6 , step 410 , loss= 0.007726843 acc = 1.0 , val_loss= 0.06814243 val acc = 0.9814 \n",
      "Epoch 6 , step 510 , loss= 0.0046151094 acc = 1.0 , val_loss= 0.06349157 val acc = 0.9838 \n",
      "Epoch 6 , step 610 , loss= 0.020323645 acc = 1.0 , val_loss= 0.068252645 val acc = 0.9828 \n",
      "Epoch 6 , step 710 , loss= 0.010791926 acc = 1.0 , val_loss= 0.06916454 val acc = 0.9812 \n",
      "Epoch 6 , step 810 , loss= 0.0010266427 acc = 1.0 , val_loss= 0.06666116 val acc = 0.9816 \n",
      "Epoch 6 , step 910 , loss= 0.035240542 acc = 0.96875 , val_loss= 0.07696064 val acc = 0.979 \n",
      "Epoch 6 , step 1010 , loss= 0.0072893584 acc = 1.0 , val_loss= 0.079408094 val acc = 0.9796 \n",
      "Epoch 6 , step 1110 , loss= 0.014028802 acc = 1.0 , val_loss= 0.06731798 val acc = 0.9806 \n",
      "Epoch 6 , step 1210 , loss= 0.0041746763 acc = 1.0 , val_loss= 0.07841879 val acc = 0.9802 \n",
      "Epoch 6 , step 1310 , loss= 0.051028535 acc = 0.96875 , val_loss= 0.08483137 val acc = 0.9782 \n",
      "Epoch 6 , step 1410 , loss= 0.004145441 acc = 1.0 , val_loss= 0.06609609 val acc = 0.9826 \n",
      "Epoch 6 , step 1510 , loss= 0.00849683 acc = 1.0 , val_loss= 0.06958397 val acc = 0.9814 \n",
      "Epoch 6 , step 1610 , loss= 0.001225835 acc = 1.0 , val_loss= 0.09114788 val acc = 0.976 \n",
      "Epoch 6 , step 1710 , loss= 0.015731473 acc = 1.0 , val_loss= 0.074108995 val acc = 0.98 \n",
      "Epoch 7 , step 92 , loss= 0.00198081 acc = 1.0 , val_loss= 0.067798816 val acc = 0.9832 \n",
      "Epoch 7 , step 192 , loss= 0.004902391 acc = 1.0 , val_loss= 0.07043331 val acc = 0.983 \n",
      "Epoch 7 , step 292 , loss= 0.007578885 acc = 1.0 , val_loss= 0.06657947 val acc = 0.9826 \n",
      "Epoch 7 , step 392 , loss= 0.0020191038 acc = 1.0 , val_loss= 0.07595082 val acc = 0.9814 \n",
      "Epoch 7 , step 492 , loss= 0.0089035155 acc = 1.0 , val_loss= 0.07801441 val acc = 0.9814 \n",
      "Epoch 7 , step 592 , loss= 0.008008016 acc = 1.0 , val_loss= 0.078930795 val acc = 0.9804 \n",
      "Epoch 7 , step 692 , loss= 0.0024376526 acc = 1.0 , val_loss= 0.07454289 val acc = 0.9812 \n",
      "Epoch 7 , step 792 , loss= 0.0017897265 acc = 1.0 , val_loss= 0.07112997 val acc = 0.9818 \n",
      "Epoch 7 , step 892 , loss= 0.026909655 acc = 1.0 , val_loss= 0.09529957 val acc = 0.9764 \n",
      "Epoch 7 , step 992 , loss= 0.0037611644 acc = 1.0 , val_loss= 0.07889228 val acc = 0.9806 \n",
      "Epoch 7 , step 1092 , loss= 0.0012718964 acc = 1.0 , val_loss= 0.07582279 val acc = 0.9816 \n",
      "Epoch 7 , step 1192 , loss= 0.00084283965 acc = 1.0 , val_loss= 0.08650714 val acc = 0.9798 \n",
      "Epoch 7 , step 1292 , loss= 0.008272531 acc = 1.0 , val_loss= 0.081245296 val acc = 0.9818 \n",
      "Epoch 7 , step 1392 , loss= 0.021640237 acc = 1.0 , val_loss= 0.0802783 val acc = 0.981 \n",
      "Epoch 7 , step 1492 , loss= 0.0024849658 acc = 1.0 , val_loss= 0.07313187 val acc = 0.9822 \n",
      "Epoch 7 , step 1592 , loss= 0.00019210755 acc = 1.0 , val_loss= 0.08186979 val acc = 0.9788 \n",
      "Epoch 7 , step 1692 , loss= 0.016754514 acc = 1.0 , val_loss= 0.08450954 val acc = 0.9796 \n",
      "Epoch 8 , step 74 , loss= 0.00017492655 acc = 1.0 , val_loss= 0.08148744 val acc = 0.982 \n",
      "Epoch 8 , step 174 , loss= 7.085097e-05 acc = 1.0 , val_loss= 0.07497613 val acc = 0.9812 \n",
      "Epoch 8 , step 274 , loss= 0.001087236 acc = 1.0 , val_loss= 0.07024713 val acc = 0.9824 \n",
      "Epoch 8 , step 374 , loss= 0.0027771285 acc = 1.0 , val_loss= 0.075033896 val acc = 0.9824 \n",
      "Epoch 8 , step 474 , loss= 0.0033867753 acc = 1.0 , val_loss= 0.07511967 val acc = 0.9816 \n",
      "Epoch 8 , step 574 , loss= 0.0007864976 acc = 1.0 , val_loss= 0.07950634 val acc = 0.9788 \n",
      "Epoch 8 , step 674 , loss= 0.0008758343 acc = 1.0 , val_loss= 0.07164593 val acc = 0.983 \n",
      "Epoch 8 , step 774 , loss= 0.0023263171 acc = 1.0 , val_loss= 0.072939254 val acc = 0.9812 \n",
      "Epoch 8 , step 874 , loss= 0.0033784804 acc = 1.0 , val_loss= 0.07446205 val acc = 0.9818 \n",
      "Epoch 8 , step 974 , loss= 0.00020924138 acc = 1.0 , val_loss= 0.07326741 val acc = 0.9822 \n",
      "Epoch 8 , step 1074 , loss= 0.0019202513 acc = 1.0 , val_loss= 0.07243801 val acc = 0.9806 \n",
      "Epoch 8 , step 1174 , loss= 0.0008524625 acc = 1.0 , val_loss= 0.08391924 val acc = 0.9784 \n",
      "Epoch 8 , step 1274 , loss= 0.00013343367 acc = 1.0 , val_loss= 0.07764443 val acc = 0.9812 \n",
      "Epoch 8 , step 1374 , loss= 0.005801183 acc = 1.0 , val_loss= 0.07479884 val acc = 0.9816 \n",
      "Epoch 8 , step 1474 , loss= 0.0001331435 acc = 1.0 , val_loss= 0.07638443 val acc = 0.9802 \n",
      "Epoch 8 , step 1574 , loss= 4.175616e-05 acc = 1.0 , val_loss= 0.079256736 val acc = 0.9812 \n",
      "Epoch 8 , step 1674 , loss= 0.0057559237 acc = 1.0 , val_loss= 0.08372165 val acc = 0.9788 \n",
      "Epoch 9 , step 56 , loss= 0.0029331886 acc = 1.0 , val_loss= 0.08135761 val acc = 0.98 \n",
      "Epoch 9 , step 156 , loss= 0.0019254307 acc = 1.0 , val_loss= 0.0707819 val acc = 0.982 \n",
      "Epoch 9 , step 256 , loss= 0.0063880333 acc = 1.0 , val_loss= 0.08083646 val acc = 0.9808 \n",
      "Epoch 9 , step 356 , loss= 0.00025481023 acc = 1.0 , val_loss= 0.09285361 val acc = 0.9788 \n",
      "Epoch 9 , step 456 , loss= 0.0010796279 acc = 1.0 , val_loss= 0.07341768 val acc = 0.9832 \n",
      "Epoch 9 , step 556 , loss= 0.0044051134 acc = 1.0 , val_loss= 0.06836343 val acc = 0.9844 \n",
      "Epoch 9 , step 656 , loss= 8.608381e-05 acc = 1.0 , val_loss= 0.08433695 val acc = 0.9798 \n",
      "Epoch 9 , step 756 , loss= 0.00933631 acc = 1.0 , val_loss= 0.085573 val acc = 0.9818 \n",
      "Epoch 9 , step 856 , loss= 0.0016823299 acc = 1.0 , val_loss= 0.10172463 val acc = 0.9782 \n",
      "Epoch 9 , step 956 , loss= 0.0037902426 acc = 1.0 , val_loss= 0.08429801 val acc = 0.9814 \n",
      "Epoch 9 , step 1056 , loss= 0.004882602 acc = 1.0 , val_loss= 0.07260319 val acc = 0.9822 \n",
      "Epoch 9 , step 1156 , loss= 0.0026650184 acc = 1.0 , val_loss= 0.08166089 val acc = 0.982 \n",
      "Epoch 9 , step 1256 , loss= 0.0008108681 acc = 1.0 , val_loss= 0.09394747 val acc = 0.979 \n",
      "Epoch 9 , step 1356 , loss= 0.0017168256 acc = 1.0 , val_loss= 0.07925613 val acc = 0.9826 \n",
      "Epoch 9 , step 1456 , loss= 0.0013320891 acc = 1.0 , val_loss= 0.09154056 val acc = 0.9788 \n",
      "Epoch 9 , step 1556 , loss= 0.00047611818 acc = 1.0 , val_loss= 0.08223954 val acc = 0.9816 \n",
      "Epoch 9 , step 1656 , loss= 0.018227419 acc = 1.0 , val_loss= 0.08718727 val acc = 0.9798 \n",
      "Epoch 10 , step 38 , loss= 0.00096169335 acc = 1.0 , val_loss= 0.07725665 val acc = 0.9798 \n",
      "Epoch 10 , step 138 , loss= 0.00035834048 acc = 1.0 , val_loss= 0.0765155 val acc = 0.982 \n",
      "Epoch 10 , step 238 , loss= 0.0060539185 acc = 1.0 , val_loss= 0.07186651 val acc = 0.9824 \n",
      "Epoch 10 , step 338 , loss= 0.0003810621 acc = 1.0 , val_loss= 0.08358564 val acc = 0.98 \n",
      "Epoch 10 , step 438 , loss= 0.006603224 acc = 1.0 , val_loss= 0.08198522 val acc = 0.98 \n",
      "Epoch 10 , step 538 , loss= 0.004080462 acc = 1.0 , val_loss= 0.08391255 val acc = 0.9804 \n",
      "Epoch 10 , step 638 , loss= 0.040999815 acc = 0.96875 , val_loss= 0.081035264 val acc = 0.9808 \n",
      "Epoch 10 , step 738 , loss= 0.0032239354 acc = 1.0 , val_loss= 0.08179774 val acc = 0.9812 \n",
      "Epoch 10 , step 838 , loss= 0.009124512 acc = 1.0 , val_loss= 0.083365664 val acc = 0.98 \n",
      "Epoch 10 , step 938 , loss= 0.007153986 acc = 1.0 , val_loss= 0.07066181 val acc = 0.9856 \n",
      "Epoch 10 , step 1038 , loss= 0.0037764162 acc = 1.0 , val_loss= 0.079343334 val acc = 0.9816 \n",
      "Epoch 10 , step 1138 , loss= 0.004593458 acc = 1.0 , val_loss= 0.07795177 val acc = 0.982 \n",
      "Epoch 10 , step 1238 , loss= 0.00097782 acc = 1.0 , val_loss= 0.07746968 val acc = 0.9822 \n",
      "Epoch 10 , step 1338 , loss= 0.005877072 acc = 1.0 , val_loss= 0.086416416 val acc = 0.9806 \n",
      "Epoch 10 , step 1438 , loss= 0.0035522943 acc = 1.0 , val_loss= 0.08023482 val acc = 0.9808 \n",
      "Epoch 10 , step 1538 , loss= 0.001955893 acc = 1.0 , val_loss= 0.080390505 val acc = 0.9832 \n",
      "Epoch 10 , step 1638 , loss= 0.002116441 acc = 1.0 , val_loss= 0.09559834 val acc = 0.9774 \n",
      "Epoch 10 , step 1717 , loss= 0.003427891 acc = 1.0 , val_loss= 0.0916779 val acc = 0.9798 \n"
     ]
    }
   ],
   "source": [
    "try_cls = True\n",
    "if try_cls:\n",
    "    from tensorflow.examples.tutorials.mnist import input_data\n",
    "\n",
    "    mnist = input_data.read_data_sets(\"/tmp/data/\", one_hot=True)\n",
    "    X_train = mnist.train.images#.astype(np.float64)\n",
    "    y_train = mnist.train.labels#.astype(np.float64)\n",
    "    X_val = mnist.validation.images\n",
    "    y_val = mnist.validation.labels\n",
    "    X_test = mnist.test.images\n",
    "    y_test = mnist.test.labels\n",
    "    check_obj('X_train')\n",
    "    check_obj('y_train')\n",
    "    input_dims = X_train.shape[1]\n",
    "    output_dims = y_train.shape[1]\n",
    "    check_obj('input_dims')\n",
    "    check_obj('output_dims')\n",
    "    col_cls_0 = InitialColumnProgNN(\n",
    "        input_dims=input_dims\n",
    "        , output_dims=output_dims\n",
    "        , session=session\n",
    "        , dtype_X=tf.float32\n",
    "        , dtype_y=tf.float32)\n",
    "    col_cls_0.add_fc(512,activation_func=tf.nn.relu)\n",
    "#     col_cls_0.add_fc(256,activation_func=tf.nn.relu)\n",
    "#     col_cls_0.add_fc(128,activation_func=tf.nn.relu)\n",
    "    col_cls_0.add_fc(output_dims,activation_func=tf.nn.softmax)\n",
    "    col_cls_0.compile_nn(\n",
    "        loss=tf.losses.softmax_cross_entropy(col_cls_0.ys,col_cls_0.logits)\n",
    "        , opt=tf.train.AdamOptimizer(learning_rate=1e-3)\n",
    "        , metrics = ['acc'])\n",
    "    col_cls_0.train(\n",
    "        X=X_train\n",
    "        ,y=y_train\n",
    "        ,val_set=[X_val,y_val]\n",
    "        ,batch_size=32\n",
    "        ,n_epochs=10\n",
    "        ,display_steps=100)\n",
    "    "
   ]
  },
  {
   "cell_type": "code",
   "execution_count": 21,
   "metadata": {
    "ExecuteTime": {
     "end_time": "2018-11-10T07:55:02.339872Z",
     "start_time": "2018-11-10T07:55:02.000331Z"
    }
   },
   "outputs": [
    {
     "name": "stdout",
     "output_type": "stream",
     "text": [
      "Plotting loss...\n"
     ]
    },
    {
     "data": {
      "image/png": "[encoded data removed]",
      "text/plain": [
       "<Figure size 432x288 with 1 Axes>"
      ]
     },
     "metadata": {
      "needs_background": "light"
     },
     "output_type": "display_data"
    },
    {
     "name": "stdout",
     "output_type": "stream",
     "text": [
      "Plotting metrics...\n"
     ]
    },
    {
     "data": {
      "image/png": "[encoded data removed]",
      "text/plain": [
       "<Figure size 432x288 with 1 Axes>"
      ]
     },
     "metadata": {
      "needs_background": "light"
     },
     "output_type": "display_data"
    }
   ],
   "source": [
    "if try_cls:\n",
    "    col_cls_0.plt_loss()\n",
    "    col_cls_0.plt_metrics()"
   ]
  },
  {
   "cell_type": "code",
   "execution_count": null,
   "metadata": {
    "ExecuteTime": {
     "end_time": "2018-11-10T06:18:55.722699Z",
     "start_time": "2018-11-10T06:18:55.702393Z"
    }
   },
   "outputs": [],
   "source": []
  },
  {
   "cell_type": "code",
   "execution_count": null,
   "metadata": {},
   "outputs": [],
   "source": []
  }
 ],
 "metadata": {
  "kernelspec": {
   "display_name": "Python [conda env:tu36]",
   "language": "python",
   "name": "conda-env-tu36-py"
  },
  "language_info": {
   "codemirror_mode": {
    "name": "ipython",
    "version": 3
   },
   "file_extension": ".py",
   "mimetype": "text/x-python",
   "name": "python",
   "nbconvert_exporter": "python",
   "pygments_lexer": "ipython3",
   "version": "3.6.6"
  },
  "widgets": {
   "state": {},
   "version": "1.1.2"
  }
 },
 "nbformat": 4,
 "nbformat_minor": 2
}
