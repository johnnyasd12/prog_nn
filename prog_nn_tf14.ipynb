{
 "cells": [
  {
   "cell_type": "code",
   "execution_count": 1,
   "metadata": {
    "ExecuteTime": {
     "end_time": "2018-11-10T04:28:21.383444Z",
     "start_time": "2018-11-10T04:28:19.330236Z"
    }
   },
   "outputs": [
    {
     "name": "stderr",
     "output_type": "stream",
     "text": [
      "/home/deep3072/anaconda2/envs/tu36/lib/python3.6/importlib/_bootstrap.py:219: RuntimeWarning: compiletime version 3.5 of module 'tensorflow.python.framework.fast_tensor_util' does not match runtime version 3.6\n",
      "  return f(*args, **kwds)\n"
     ]
    }
   ],
   "source": [
    "import tensorflow as tf\n",
    "import numpy as np\n",
    "import random\n",
    "import os\n",
    "from progressive_nn import InitialColumnProgNN"
   ]
  },
  {
   "cell_type": "code",
   "execution_count": 2,
   "metadata": {
    "ExecuteTime": {
     "end_time": "2018-11-10T04:28:21.388639Z",
     "start_time": "2018-11-10T04:28:21.384895Z"
    }
   },
   "outputs": [],
   "source": [
    "def check_obj(obj_str):\n",
    "    obj = eval(obj_str)\n",
    "    obj_type = type(obj)\n",
    "    print(obj_str\n",
    "        , obj_type\n",
    "        , end = ' '\n",
    "        )\n",
    "    if obj_type == np.ndarray:\n",
    "        print(obj.shape)\n",
    "    else:\n",
    "        try:\n",
    "            iterator = iter(obj)\n",
    "        except TypeError:\n",
    "            # not iterable\n",
    "            print(obj)\n",
    "        else:\n",
    "            # iterable\n",
    "            print(len(obj))"
   ]
  },
  {
   "cell_type": "code",
   "execution_count": 3,
   "metadata": {
    "ExecuteTime": {
     "end_time": "2018-11-10T04:28:21.600364Z",
     "start_time": "2018-11-10T04:28:21.389853Z"
    }
   },
   "outputs": [],
   "source": [
    "# session settings\n",
    "mem_fraction = 0.25\n",
    "gpu_options = tf.GPUOptions(\n",
    "    allow_growth=True\n",
    "#         ,per_process_gpu_memory_fraction=mem_fraction\n",
    "    )\n",
    "config = tf.ConfigProto(gpu_options=gpu_options)\n",
    "session = tf.Session(config = config)\n",
    "# seed settings\n",
    "seed = int(os.getenv(\"SEED\", 12))\n",
    "tf.set_random_seed(seed)\n",
    "np.random.seed(seed)\n",
    "random.seed(seed)"
   ]
  },
  {
   "cell_type": "code",
   "execution_count": 4,
   "metadata": {
    "ExecuteTime": {
     "end_time": "2018-11-10T04:28:24.407839Z",
     "start_time": "2018-11-10T04:28:21.601538Z"
    }
   },
   "outputs": [
    {
     "name": "stdout",
     "output_type": "stream",
     "text": [
      "X_data (300, 1) \n",
      " [[-1.        ]\n",
      " [-0.99331105]\n",
      " [-0.9866221 ]\n",
      " [-0.9799331 ]\n",
      " [-0.97324413]]\n",
      "y_data (300, 1) \n",
      " [[0.5236493 ]\n",
      " [0.45259556]\n",
      " [0.48554516]\n",
      " [0.37523207]\n",
      " [0.48486125]]\n",
      "FC_layer, shape_inputs = [None, 1]\n",
      "FC_layer, shape_W = [1, 10] , shape_b = [1, 10]\n",
      "FC_layer, shape_inputs = [None, 10]\n",
      "FC_layer, shape_W = [10, 1] , shape_b = [1, 1]\n",
      "Epoch 1 , step 0 , loss= 0.16340958 \n",
      "Epoch 51 , step 0 , loss= 0.110968895 \n",
      "Epoch 101 , step 0 , loss= 0.09359785 \n",
      "Epoch 151 , step 0 , loss= 0.09150763 \n",
      "Epoch 201 , step 0 , loss= 0.089835666 \n",
      "Epoch 251 , step 0 , loss= 0.087196 \n",
      "Epoch 301 , step 0 , loss= 0.08347666 \n",
      "Epoch 351 , step 0 , loss= 0.078744136 \n",
      "Epoch 401 , step 0 , loss= 0.07280296 \n",
      "Epoch 451 , step 0 , loss= 0.06536231 \n",
      "Epoch 501 , step 0 , loss= 0.056426283 \n",
      "Epoch 551 , step 0 , loss= 0.046535965 \n",
      "Epoch 601 , step 0 , loss= 0.036804233 \n",
      "Epoch 651 , step 0 , loss= 0.028184894 \n",
      "Epoch 701 , step 0 , loss= 0.021230588 \n",
      "Epoch 751 , step 0 , loss= 0.016095104 \n",
      "Epoch 801 , step 0 , loss= 0.01261471 \n",
      "Epoch 851 , step 0 , loss= 0.010433533 \n",
      "Epoch 901 , step 0 , loss= 0.009122641 \n",
      "Epoch 951 , step 0 , loss= 0.008317082 \n",
      "Epoch 1000 , step 0 , loss= 0.007719574 \n",
      "plotting loss...\n"
     ]
    },
    {
     "data": {
      "image/png": "[encoded data removed]",
      "text/plain": [
       "<Figure size 432x288 with 1 Axes>"
      ]
     },
     "metadata": {
      "needs_background": "light"
     },
     "output_type": "display_data"
    }
   ],
   "source": [
    "try_reg = True\n",
    "if try_reg:\n",
    "#         X_data = np.random.random((6000))[:, np.newaxis]*100\n",
    "#         noise = np.random.normal(0, 0.05, X_data.shape).astype(np.float32)*0\n",
    "#         y_data = X_data*2 + 1 + noise\n",
    "    X_data = np.linspace(-1,1,300, dtype=np.float32)[:, np.newaxis]\n",
    "    noise = np.random.normal(0, 0.05, X_data.shape).astype(np.float32)\n",
    "    y_data = np.square(X_data) - 0.5 + noise\n",
    "    print('X_data',X_data.shape,'\\n',X_data[:5])\n",
    "    print('y_data',y_data.shape,'\\n',y_data[:5])\n",
    "\n",
    "    input_dims = X_data.shape[1]\n",
    "    col_0 = InitialColumnProgNN(\n",
    "        input_dims=input_dims\n",
    "        , output_dims=1\n",
    "        , session=session\n",
    "        , dtype_X=tf.float32, dtype_y=tf.float32\n",
    "    )\n",
    "    col_0.add_fc(10,activation_func=tf.nn.relu)\n",
    "#     col_0.add_fc(1024,activation_func=tf.nn.relu)\n",
    "    col_0.add_fc(1,activation_func=None\n",
    "        # ,output_layer=True\n",
    "        )\n",
    "    col_0.compile_nn(\n",
    "#         loss=tf.reduce_mean(tf.reduce_sum(tf.square(col_0.ys - col_0.prediction),reduction_indices=[1]))\n",
    "        loss=tf.losses.mean_squared_error(col_0.ys,col_0.prediction)\n",
    "        ,opt=tf.train.AdamOptimizer(learning_rate=1e-3)\n",
    "#         ,opt=tf.train.GradientDescentOptimizer(learning_rate=1e-1)\n",
    "#         ,mectrics=[]\n",
    "    )\n",
    "    col_0.train(\n",
    "        X=X_data\n",
    "        , y=y_data\n",
    "        , batch_size=None\n",
    "        , n_epochs=1000\n",
    "        , display_steps=50\n",
    "    )\n",
    "    col_0.plt_loss()\n",
    "\n"
   ]
  },
  {
   "cell_type": "code",
   "execution_count": null,
   "metadata": {
    "ExecuteTime": {
     "end_time": "2018-11-10T04:15:54.134644Z",
     "start_time": "2018-11-10T04:15:43.495489Z"
    }
   },
   "outputs": [],
   "source": [
    "try_cls = True\n",
    "if try_cls:\n",
    "    from tensorflow.examples.tutorials.mnist import input_data\n",
    "\n",
    "    mnist = input_data.read_data_sets(\"/tmp/data/\", one_hot=True)\n",
    "    X_train = mnist.train.images#.astype(np.float64)\n",
    "    y_train = mnist.train.labels#.astype(np.float64)\n",
    "    X_val = mnist.validation.images\n",
    "    y_val = mnist.validation.labels\n",
    "    X_test = mnist.test.images\n",
    "    y_test = mnist.test.labels\n",
    "    check_obj('X_train')\n",
    "    check_obj('y_train')\n",
    "    input_dims = X_train.shape[1]\n",
    "    output_dims = y_train.shape[1]\n",
    "    check_obj('input_dims')\n",
    "    check_obj('output_dims')\n",
    "    col_cls_0 = InitialColumnProgNN(\n",
    "        input_dims=input_dims\n",
    "        , output_dims=output_dims\n",
    "        , session=session\n",
    "        , dtype_X=tf.float32\n",
    "        , dtype_y=tf.float32)\n",
    "    col_cls_0.add_fc(512,activation_func=tf.nn.relu)\n",
    "    col_cls_0.add_fc(256,activation_func=tf.nn.relu)\n",
    "    col_cls_0.add_fc(128,activation_func=tf.nn.relu)\n",
    "    col_cls_0.add_fc(output_dims,activation_func=tf.nn.softmax)\n",
    "    col_cls_0.compile_nn(\n",
    "        loss=tf.losses.softmax_cross_entropy(col_cls_0.ys,col_cls_0.logits)\n",
    "        , opt=tf.train.AdamOptimizer(learning_rate=1e-3)\n",
    "        , metrics = ['acc'])\n",
    "    col_cls_0.train(\n",
    "        X=X_train\n",
    "        ,y=y_train\n",
    "        ,val_set=[X_val,y_val]\n",
    "        ,batch_size=256\n",
    "        ,n_epochs=10\n",
    "        ,display_steps=100)\n",
    "    col_cls_0.plt_loss()"
   ]
  },
  {
   "cell_type": "code",
   "execution_count": null,
   "metadata": {},
   "outputs": [],
   "source": []
  }
 ],
 "metadata": {
  "kernelspec": {
   "display_name": "Python [conda env:tu36]",
   "language": "python",
   "name": "conda-env-tu36-py"
  },
  "language_info": {
   "codemirror_mode": {
    "name": "ipython",
    "version": 3
   },
   "file_extension": ".py",
   "mimetype": "text/x-python",
   "name": "python",
   "nbconvert_exporter": "python",
   "pygments_lexer": "ipython3",
   "version": "3.6.6"
  },
  "widgets": {
   "state": {},
   "version": "1.1.2"
  }
 },
 "nbformat": 4,
 "nbformat_minor": 2
}
