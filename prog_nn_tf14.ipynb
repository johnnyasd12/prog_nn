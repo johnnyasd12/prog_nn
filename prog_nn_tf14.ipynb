{
 "cells": [
  {
   "cell_type": "code",
   "execution_count": 1,
   "metadata": {
    "ExecuteTime": {
     "end_time": "2018-11-10T09:07:39.118162Z",
     "start_time": "2018-11-10T09:07:39.103110Z"
    }
   },
   "outputs": [],
   "source": [
    "# to auto reload the modified module\n",
    "% load_ext autoreload\n",
    "% autoreload 2"
   ]
  },
  {
   "cell_type": "code",
   "execution_count": 2,
   "metadata": {
    "ExecuteTime": {
     "end_time": "2018-11-10T09:07:41.077466Z",
     "start_time": "2018-11-10T09:07:39.326934Z"
    }
   },
   "outputs": [
    {
     "name": "stderr",
     "output_type": "stream",
     "text": [
      "/home/deep3072/anaconda2/envs/tu36/lib/python3.6/importlib/_bootstrap.py:219: RuntimeWarning: compiletime version 3.5 of module 'tensorflow.python.framework.fast_tensor_util' does not match runtime version 3.6\n",
      "  return f(*args, **kwds)\n"
     ]
    }
   ],
   "source": [
    "import tensorflow as tf\n",
    "import numpy as np\n",
    "import random\n",
    "import os\n",
    "from progressive_nn import InitialColumnProgNN\n",
    "from utils import *"
   ]
  },
  {
   "cell_type": "code",
   "execution_count": 3,
   "metadata": {
    "ExecuteTime": {
     "end_time": "2018-11-10T09:07:41.093043Z",
     "start_time": "2018-11-10T09:07:41.078900Z"
    }
   },
   "outputs": [],
   "source": [
    "def check_obj(obj_str):\n",
    "    obj = eval(obj_str)\n",
    "    obj_type = type(obj)\n",
    "    print(obj_str\n",
    "        , obj_type\n",
    "        , end = ' '\n",
    "        )\n",
    "    if obj_type == np.ndarray:\n",
    "        print(obj.shape)\n",
    "    else:\n",
    "        try:\n",
    "            iterator = iter(obj)\n",
    "        except TypeError:\n",
    "            # not iterable\n",
    "            print(obj)\n",
    "        else:\n",
    "            # iterable\n",
    "            print(len(obj))"
   ]
  },
  {
   "cell_type": "code",
   "execution_count": 4,
   "metadata": {
    "ExecuteTime": {
     "end_time": "2018-11-10T09:07:42.195949Z",
     "start_time": "2018-11-10T09:07:42.014100Z"
    }
   },
   "outputs": [],
   "source": [
    "# # session settings\n",
    "gpu_id = '1'\n",
    "session = create_session(gpu_id=gpu_id)"
   ]
  },
  {
   "cell_type": "code",
   "execution_count": null,
   "metadata": {
    "ExecuteTime": {
     "end_time": "2018-11-10T09:04:46.404389Z",
     "start_time": "2018-11-10T09:04:46.289928Z"
    }
   },
   "outputs": [],
   "source": [
    "# seed settings\n",
    "seed = int(os.getenv(\"SEED\", 12))\n",
    "tf.set_random_seed(seed)\n",
    "np.random.seed(seed)\n",
    "random.seed(seed)"
   ]
  },
  {
   "cell_type": "code",
   "execution_count": 5,
   "metadata": {
    "ExecuteTime": {
     "end_time": "2018-11-10T09:08:14.113857Z",
     "start_time": "2018-11-10T09:08:05.662643Z"
    }
   },
   "outputs": [
    {
     "name": "stdout",
     "output_type": "stream",
     "text": [
      "X_data (300, 1) \n",
      " [[-0.4381271 ]\n",
      " [ 0.67892975]\n",
      " [ 0.5852843 ]\n",
      " [ 0.6187291 ]\n",
      " [ 0.33779263]]\n",
      "y_data (300, 1) \n",
      " [[-0.40578312]\n",
      " [-0.02366678]\n",
      " [-0.23387113]\n",
      " [-0.05727664]\n",
      " [-0.37502772]]\n",
      "Layer 1 : FC, input shape = [None, 1] , out_size = 10\n",
      "Layer 2 : FC, input shape = [None, 10] , out_size = 1\n",
      "Epoch 1 , step 0 , loss= 0.2062944 \n",
      "Epoch 6 , step 5 , loss= 0.095764205 \n",
      "Epoch 12 , step 1 , loss= 0.10385649 \n",
      "Epoch 17 , step 6 , loss= 0.06631231 \n",
      "Epoch 23 , step 2 , loss= 0.08670224 \n",
      "Epoch 28 , step 7 , loss= 0.095092155 \n",
      "Epoch 34 , step 3 , loss= 0.08650133 \n",
      "Epoch 39 , step 8 , loss= 0.07624758 \n",
      "Epoch 45 , step 4 , loss= 0.05866401 \n",
      "Epoch 51 , step 0 , loss= 0.06275883 \n",
      "Epoch 56 , step 5 , loss= 0.04633624 \n",
      "Epoch 62 , step 1 , loss= 0.053709347 \n",
      "Epoch 67 , step 6 , loss= 0.04106062 \n",
      "Epoch 73 , step 2 , loss= 0.025521887 \n",
      "Epoch 78 , step 7 , loss= 0.025080856 \n",
      "Epoch 84 , step 3 , loss= 0.025120003 \n",
      "Epoch 89 , step 8 , loss= 0.019885067 \n",
      "Epoch 95 , step 4 , loss= 0.013985058 \n",
      "Epoch 101 , step 0 , loss= 0.015649952 \n",
      "Epoch 106 , step 5 , loss= 0.009794263 \n",
      "Epoch 112 , step 1 , loss= 0.00893221 \n",
      "Epoch 117 , step 6 , loss= 0.00614815 \n",
      "Epoch 123 , step 2 , loss= 0.0076956367 \n",
      "Epoch 128 , step 7 , loss= 0.007920727 \n",
      "Epoch 134 , step 3 , loss= 0.006356152 \n",
      "Epoch 139 , step 8 , loss= 0.0052702893 \n",
      "Epoch 145 , step 4 , loss= 0.0062011117 \n",
      "Epoch 151 , step 0 , loss= 0.006137862 \n",
      "Epoch 156 , step 5 , loss= 0.0058442024 \n",
      "Epoch 162 , step 1 , loss= 0.0041112783 \n",
      "Epoch 167 , step 6 , loss= 0.0030367097 \n",
      "Epoch 173 , step 2 , loss= 0.005746601 \n",
      "Epoch 178 , step 7 , loss= 0.0056976457 \n",
      "Epoch 184 , step 3 , loss= 0.0051631676 \n",
      "Epoch 189 , step 8 , loss= 0.0037482493 \n",
      "Epoch 195 , step 4 , loss= 0.004025993 \n",
      "Epoch 201 , step 0 , loss= 0.0035708745 \n",
      "Epoch 206 , step 5 , loss= 0.0032576271 \n",
      "Epoch 212 , step 1 , loss= 0.0043200194 \n",
      "Epoch 217 , step 6 , loss= 0.0034091936 \n",
      "Epoch 223 , step 2 , loss= 0.0043707322 \n",
      "Epoch 228 , step 7 , loss= 0.0036462066 \n",
      "Epoch 234 , step 3 , loss= 0.0024333068 \n",
      "Epoch 239 , step 8 , loss= 0.0025590947 \n",
      "Epoch 245 , step 4 , loss= 0.0029601287 \n",
      "Epoch 251 , step 0 , loss= 0.0017783944 \n",
      "Epoch 256 , step 5 , loss= 0.0027294615 \n",
      "Epoch 262 , step 1 , loss= 0.0043941056 \n",
      "Epoch 267 , step 6 , loss= 0.0034606108 \n",
      "Epoch 273 , step 2 , loss= 0.0026743049 \n",
      "Epoch 278 , step 7 , loss= 0.0036037038 \n",
      "Epoch 284 , step 3 , loss= 0.0037434883 \n",
      "Epoch 289 , step 8 , loss= 0.003630274 \n",
      "Epoch 295 , step 4 , loss= 0.0028224685 \n",
      "Epoch 301 , step 0 , loss= 0.002875891 \n",
      "Epoch 306 , step 5 , loss= 0.0043120617 \n",
      "Epoch 312 , step 1 , loss= 0.0027846242 \n",
      "Epoch 317 , step 6 , loss= 0.0025013965 \n",
      "Epoch 323 , step 2 , loss= 0.004193101 \n",
      "Epoch 328 , step 7 , loss= 0.0032039057 \n",
      "Epoch 334 , step 3 , loss= 0.0032625692 \n",
      "Epoch 339 , step 8 , loss= 0.0030858985 \n",
      "Epoch 345 , step 4 , loss= 0.0026356461 \n",
      "Epoch 351 , step 0 , loss= 0.0037338333 \n",
      "Epoch 356 , step 5 , loss= 0.0035635033 \n",
      "Epoch 362 , step 1 , loss= 0.0039609475 \n",
      "Epoch 367 , step 6 , loss= 0.0016776635 \n",
      "Epoch 373 , step 2 , loss= 0.0036573838 \n",
      "Epoch 378 , step 7 , loss= 0.002765375 \n",
      "Epoch 384 , step 3 , loss= 0.0025018929 \n",
      "Epoch 389 , step 8 , loss= 0.002912329 \n",
      "Epoch 395 , step 4 , loss= 0.0043695876 \n",
      "Epoch 401 , step 0 , loss= 0.003333294 \n",
      "Epoch 406 , step 5 , loss= 0.0027191332 \n",
      "Epoch 412 , step 1 , loss= 0.002413252 \n",
      "Epoch 417 , step 6 , loss= 0.002314147 \n",
      "Epoch 423 , step 2 , loss= 0.003454515 \n",
      "Epoch 428 , step 7 , loss= 0.002885645 \n",
      "Epoch 434 , step 3 , loss= 0.0036636791 \n",
      "Epoch 439 , step 8 , loss= 0.0034303537 \n",
      "Epoch 445 , step 4 , loss= 0.003224156 \n",
      "Epoch 451 , step 0 , loss= 0.0035352216 \n",
      "Epoch 456 , step 5 , loss= 0.004051656 \n",
      "Epoch 462 , step 1 , loss= 0.002409059 \n",
      "Epoch 467 , step 6 , loss= 0.003737332 \n",
      "Epoch 473 , step 2 , loss= 0.0038415848 \n",
      "Epoch 478 , step 7 , loss= 0.002100946 \n",
      "Epoch 484 , step 3 , loss= 0.0038398036 \n",
      "Epoch 489 , step 8 , loss= 0.0028396554 \n",
      "Epoch 495 , step 4 , loss= 0.0022102636 \n",
      "Epoch 501 , step 0 , loss= 0.0037518088 \n",
      "Epoch 506 , step 5 , loss= 0.0026191454 \n",
      "Epoch 512 , step 1 , loss= 0.003957494 \n",
      "Epoch 517 , step 6 , loss= 0.002333656 \n",
      "Epoch 523 , step 2 , loss= 0.0045293095 \n",
      "Epoch 528 , step 7 , loss= 0.0028874476 \n",
      "Epoch 534 , step 3 , loss= 0.0033700804 \n",
      "Epoch 539 , step 8 , loss= 0.0025103416 \n",
      "Epoch 545 , step 4 , loss= 0.0024588993 \n",
      "Epoch 551 , step 0 , loss= 0.0029051057 \n",
      "Epoch 556 , step 5 , loss= 0.0034408993 \n",
      "Epoch 562 , step 1 , loss= 0.003561434 \n",
      "Epoch 567 , step 6 , loss= 0.0028688232 \n",
      "Epoch 573 , step 2 , loss= 0.0029147132 \n",
      "Epoch 578 , step 7 , loss= 0.0027548063 \n",
      "Epoch 584 , step 3 , loss= 0.002773048 \n",
      "Epoch 589 , step 8 , loss= 0.003769228 \n",
      "Epoch 595 , step 4 , loss= 0.002177022 \n",
      "Epoch 601 , step 0 , loss= 0.0035322031 \n",
      "Epoch 606 , step 5 , loss= 0.0024566916 \n",
      "Epoch 612 , step 1 , loss= 0.0031846578 \n",
      "Epoch 617 , step 6 , loss= 0.0039441884 \n",
      "Epoch 623 , step 2 , loss= 0.003641609 \n",
      "Epoch 628 , step 7 , loss= 0.0035200287 \n",
      "Epoch 634 , step 3 , loss= 0.002869835 \n",
      "Epoch 639 , step 8 , loss= 0.0031947047 \n",
      "Epoch 645 , step 4 , loss= 0.0040943236 \n",
      "Epoch 651 , step 0 , loss= 0.003472433 \n",
      "Epoch 656 , step 5 , loss= 0.004086813 \n",
      "Epoch 662 , step 1 , loss= 0.002932247 \n",
      "Epoch 667 , step 6 , loss= 0.003714223 \n",
      "Epoch 673 , step 2 , loss= 0.002352044 \n",
      "Epoch 678 , step 7 , loss= 0.0026074396 \n",
      "Epoch 684 , step 3 , loss= 0.002946594 \n",
      "Epoch 689 , step 8 , loss= 0.003255701 \n",
      "Epoch 695 , step 4 , loss= 0.0037357886 \n",
      "Epoch 701 , step 0 , loss= 0.003026857 \n",
      "Epoch 706 , step 5 , loss= 0.0036288807 \n",
      "Epoch 712 , step 1 , loss= 0.004044243 \n",
      "Epoch 717 , step 6 , loss= 0.002712486 \n",
      "Epoch 723 , step 2 , loss= 0.0030285618 \n",
      "Epoch 728 , step 7 , loss= 0.0025166445 \n",
      "Epoch 734 , step 3 , loss= 0.0032272036 \n",
      "Epoch 739 , step 8 , loss= 0.0035489155 \n",
      "Epoch 745 , step 4 , loss= 0.0025921408 \n",
      "Epoch 751 , step 0 , loss= 0.003072363 \n",
      "Epoch 756 , step 5 , loss= 0.0029030838 \n",
      "Epoch 762 , step 1 , loss= 0.0039149956 \n",
      "Epoch 767 , step 6 , loss= 0.0027648485 \n",
      "Epoch 773 , step 2 , loss= 0.0036204741 \n",
      "Epoch 778 , step 7 , loss= 0.0034850647 \n",
      "Epoch 784 , step 3 , loss= 0.0035988207 \n",
      "Epoch 789 , step 8 , loss= 0.0031594 \n",
      "Epoch 795 , step 4 , loss= 0.004349498 \n",
      "Epoch 801 , step 0 , loss= 0.0028828643 \n",
      "Epoch 806 , step 5 , loss= 0.0023856885 \n",
      "Epoch 812 , step 1 , loss= 0.0027851698 \n",
      "Epoch 817 , step 6 , loss= 0.0033230023 \n",
      "Epoch 823 , step 2 , loss= 0.002973693 \n",
      "Epoch 828 , step 7 , loss= 0.0032135525 \n",
      "Epoch 834 , step 3 , loss= 0.0024247416 \n",
      "Epoch 839 , step 8 , loss= 0.0024978577 \n",
      "Epoch 845 , step 4 , loss= 0.0027567332 \n",
      "Epoch 851 , step 0 , loss= 0.003248492 \n",
      "Epoch 856 , step 5 , loss= 0.0041326424 \n",
      "Epoch 862 , step 1 , loss= 0.003439676 \n",
      "Epoch 867 , step 6 , loss= 0.0020457383 \n",
      "Epoch 873 , step 2 , loss= 0.0023226032 \n",
      "Epoch 878 , step 7 , loss= 0.0033289716 \n",
      "Epoch 884 , step 3 , loss= 0.0034583486 \n",
      "Epoch 889 , step 8 , loss= 0.003258493 \n",
      "Epoch 895 , step 4 , loss= 0.002126138 \n",
      "Epoch 901 , step 0 , loss= 0.003524276 \n",
      "Epoch 906 , step 5 , loss= 0.0030754711 \n",
      "Epoch 912 , step 1 , loss= 0.0027150852 \n",
      "Epoch 917 , step 6 , loss= 0.001624594 \n",
      "Epoch 923 , step 2 , loss= 0.0025792532 \n",
      "Epoch 928 , step 7 , loss= 0.0024327044 \n",
      "Epoch 934 , step 3 , loss= 0.0027368597 \n",
      "Epoch 939 , step 8 , loss= 0.0032038412 \n",
      "Epoch 945 , step 4 , loss= 0.0029809843 \n",
      "Epoch 951 , step 0 , loss= 0.0033022584 \n",
      "Epoch 956 , step 5 , loss= 0.003196576 \n",
      "Epoch 962 , step 1 , loss= 0.0035454677 \n",
      "Epoch 967 , step 6 , loss= 0.0021715532 \n",
      "Epoch 973 , step 2 , loss= 0.0023600482 \n",
      "Epoch 978 , step 7 , loss= 0.0030301993 \n",
      "Epoch 984 , step 3 , loss= 0.0022343334 \n",
      "Epoch 989 , step 8 , loss= 0.003849035 \n",
      "Epoch 995 , step 4 , loss= 0.0037184441 \n",
      "Epoch 1000 , step 8 , loss= 0.0026885287 \n"
     ]
    }
   ],
   "source": [
    "try_reg = True\n",
    "if try_reg:\n",
    "#         X_data = np.random.random((6000))[:, np.newaxis]*100\n",
    "#         noise = np.random.normal(0, 0.05, X_data.shape).astype(np.float32)*0\n",
    "#         y_data = X_data*2 + 1 + noise\n",
    "    X_data = np.linspace(-1,1,300, dtype=np.float32)[:, np.newaxis]\n",
    "    np.random.shuffle(X_data)\n",
    "    noise = np.random.normal(0, 0.05, X_data.shape).astype(np.float32)\n",
    "    y_data = np.square(X_data) - 0.5 + noise\n",
    "    print('X_data',X_data.shape,'\\n',X_data[:5])\n",
    "    print('y_data',y_data.shape,'\\n',y_data[:5])\n",
    "\n",
    "    input_dims = X_data.shape[1]\n",
    "    col_0 = InitialColumnProgNN(\n",
    "        input_dims=input_dims\n",
    "        , output_dims=1\n",
    "        , session=session\n",
    "        , dtype_X=tf.float32, dtype_y=tf.float32\n",
    "    )\n",
    "    col_0.add_fc(10,activation_func=tf.nn.relu)\n",
    "#     col_0.add_fc(1024,activation_func=tf.nn.relu)\n",
    "    col_0.add_fc(1,activation_func=None\n",
    "        # ,output_layer=True\n",
    "        )\n",
    "    col_0.compile_nn(\n",
    "#         loss=tf.reduce_mean(tf.reduce_sum(tf.square(col_0.ys - col_0.prediction),reduction_indices=[1]))\n",
    "        loss=tf.losses.mean_squared_error(col_0.ys,col_0.prediction)\n",
    "        ,opt=tf.train.AdamOptimizer(learning_rate=1e-3)\n",
    "#         ,opt=tf.train.GradientDescentOptimizer(learning_rate=1e-1)\n",
    "#         ,mectrics=[]\n",
    "    )\n",
    "    col_0.train(\n",
    "        X=X_data\n",
    "        , y=y_data\n",
    "        , batch_size=32\n",
    "        , n_epochs=1000\n",
    "        , display_steps=50\n",
    "    )\n"
   ]
  },
  {
   "cell_type": "code",
   "execution_count": 6,
   "metadata": {
    "ExecuteTime": {
     "end_time": "2018-11-10T09:08:26.303236Z",
     "start_time": "2018-11-10T09:08:26.047236Z"
    }
   },
   "outputs": [
    {
     "name": "stdout",
     "output_type": "stream",
     "text": [
      "Plotting loss...\n"
     ]
    },
    {
     "data": {
      "image/png": "[encoded data removed]",
      "text/plain": [
       "<Figure size 432x288 with 1 Axes>"
      ]
     },
     "metadata": {
      "needs_background": "light"
     },
     "output_type": "display_data"
    },
    {
     "name": "stdout",
     "output_type": "stream",
     "text": [
      "Plotting metrics...\n",
      "no metrics to plot\n"
     ]
    }
   ],
   "source": [
    "if try_reg:\n",
    "    col_0.plt_loss()\n",
    "    col_0.plt_metrics()"
   ]
  },
  {
   "cell_type": "code",
   "execution_count": 7,
   "metadata": {
    "ExecuteTime": {
     "end_time": "2018-11-10T09:08:43.161276Z",
     "start_time": "2018-11-10T09:08:33.959210Z"
    }
   },
   "outputs": [
    {
     "name": "stdout",
     "output_type": "stream",
     "text": [
      "Extracting /tmp/data/train-images-idx3-ubyte.gz\n",
      "Extracting /tmp/data/train-labels-idx1-ubyte.gz\n",
      "Extracting /tmp/data/t10k-images-idx3-ubyte.gz\n",
      "Extracting /tmp/data/t10k-labels-idx1-ubyte.gz\n",
      "X_train <class 'numpy.ndarray'> (55000, 784)\n",
      "y_train <class 'numpy.ndarray'> (55000, 10)\n",
      "input_dims <class 'int'> 784\n",
      "output_dims <class 'int'> 10\n",
      "Layer 1 : FC, input shape = [None, 784] , out_size = 512\n",
      "Layer 2 : FC, input shape = [None, 512] , out_size = 256\n",
      "Layer 3 : FC, input shape = [None, 256] , out_size = 128\n",
      "Layer 4 : FC, input shape = [None, 128] , out_size = 10\n",
      "Epoch 1 , step 0 , loss= 2.3004405 acc = 0.203125 , val_loss= 2.294193 val acc = 0.205 \n",
      "Epoch 1 , step 100 , loss= 0.17814937 acc = 0.9589844 , val_loss= 0.16111988 val acc = 0.9524 \n",
      "Epoch 2 , step 93 , loss= 0.12448112 acc = 0.96484375 , val_loss= 0.10370858 val acc = 0.9674 \n",
      "Epoch 3 , step 86 , loss= 0.053946175 acc = 0.9824219 , val_loss= 0.09026974 val acc = 0.9732 \n",
      "Epoch 4 , step 79 , loss= 0.034038175 acc = 0.9980469 , val_loss= 0.087534875 val acc = 0.9746 \n",
      "Epoch 5 , step 72 , loss= 0.045212965 acc = 0.9863281 , val_loss= 0.07515191 val acc = 0.9776 \n",
      "Epoch 6 , step 65 , loss= 0.017482337 acc = 0.99609375 , val_loss= 0.07659012 val acc = 0.9778 \n",
      "Epoch 7 , step 58 , loss= 0.014601239 acc = 0.99609375 , val_loss= 0.072093666 val acc = 0.9786 \n",
      "Epoch 8 , step 51 , loss= 0.0050136754 acc = 1.0 , val_loss= 0.06787586 val acc = 0.982 \n",
      "Epoch 9 , step 44 , loss= 0.00792969 acc = 0.9980469 , val_loss= 0.069293946 val acc = 0.9802 \n",
      "Epoch 10 , step 37 , loss= 0.0026701447 acc = 1.0 , val_loss= 0.065107845 val acc = 0.982 \n",
      "Epoch 10 , step 106 , loss= 0.006402993 acc = 0.99862635 , val_loss= 0.077799484 val acc = 0.9796 \n"
     ]
    }
   ],
   "source": [
    "try_cls = True\n",
    "if try_cls:\n",
    "    from tensorflow.examples.tutorials.mnist import input_data\n",
    "\n",
    "    mnist = input_data.read_data_sets(\"/tmp/data/\", one_hot=True)\n",
    "    X_train = mnist.train.images#.astype(np.float64)\n",
    "    y_train = mnist.train.labels#.astype(np.float64)\n",
    "    X_val = mnist.validation.images\n",
    "    y_val = mnist.validation.labels\n",
    "    X_test = mnist.test.images\n",
    "    y_test = mnist.test.labels\n",
    "    check_obj('X_train')\n",
    "    check_obj('y_train')\n",
    "    input_dims = X_train.shape[1]\n",
    "    output_dims = y_train.shape[1]\n",
    "    check_obj('input_dims')\n",
    "    check_obj('output_dims')\n",
    "    col_cls_0 = InitialColumnProgNN(\n",
    "        input_dims=input_dims\n",
    "        , output_dims=output_dims\n",
    "        , session=session\n",
    "        , dtype_X=tf.float32\n",
    "        , dtype_y=tf.float32)\n",
    "    col_cls_0.add_fc(512,activation_func=tf.nn.relu)\n",
    "    col_cls_0.add_fc(256,activation_func=tf.nn.relu)\n",
    "    col_cls_0.add_fc(128,activation_func=tf.nn.relu)\n",
    "    col_cls_0.add_fc(output_dims,activation_func=tf.nn.softmax)\n",
    "    col_cls_0.compile_nn(\n",
    "        loss=tf.losses.softmax_cross_entropy(col_cls_0.ys,col_cls_0.logits)\n",
    "        , opt=tf.train.AdamOptimizer(learning_rate=1e-3)\n",
    "        , metrics = ['acc'])\n",
    "    col_cls_0.train(\n",
    "        X=X_train\n",
    "        ,y=y_train\n",
    "        ,val_set=[X_val,y_val]\n",
    "        ,batch_size=512\n",
    "        ,n_epochs=10\n",
    "        ,display_steps=100)\n",
    "    "
   ]
  },
  {
   "cell_type": "code",
   "execution_count": 8,
   "metadata": {
    "ExecuteTime": {
     "end_time": "2018-11-10T09:09:08.389747Z",
     "start_time": "2018-11-10T09:09:07.873959Z"
    }
   },
   "outputs": [
    {
     "name": "stdout",
     "output_type": "stream",
     "text": [
      "Plotting loss...\n"
     ]
    },
    {
     "data": {
      "image/png": "[encoded data removed]",
      "text/plain": [
       "<Figure size 432x288 with 1 Axes>"
      ]
     },
     "metadata": {
      "needs_background": "light"
     },
     "output_type": "display_data"
    },
    {
     "name": "stdout",
     "output_type": "stream",
     "text": [
      "Plotting metrics...\n"
     ]
    },
    {
     "data": {
      "image/png": "[encoded data removed]",
      "text/plain": [
       "<Figure size 432x288 with 1 Axes>"
      ]
     },
     "metadata": {
      "needs_background": "light"
     },
     "output_type": "display_data"
    }
   ],
   "source": [
    "if try_cls:\n",
    "    col_cls_0.plt_loss()\n",
    "    col_cls_0.plt_metrics()"
   ]
  },
  {
   "cell_type": "code",
   "execution_count": null,
   "metadata": {},
   "outputs": [],
   "source": []
  }
 ],
 "metadata": {
  "kernelspec": {
   "display_name": "Python [conda env:tu36]",
   "language": "python",
   "name": "conda-env-tu36-py"
  },
  "language_info": {
   "codemirror_mode": {
    "name": "ipython",
    "version": 3
   },
   "file_extension": ".py",
   "mimetype": "text/x-python",
   "name": "python",
   "nbconvert_exporter": "python",
   "pygments_lexer": "ipython3",
   "version": "3.6.6"
  },
  "widgets": {
   "state": {},
   "version": "1.1.2"
  }
 },
 "nbformat": 4,
 "nbformat_minor": 2
}
